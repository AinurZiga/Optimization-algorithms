{
 "cells": [
  {
   "cell_type": "code",
   "execution_count": 1,
   "metadata": {},
   "outputs": [],
   "source": [
    "import numpy as np"
   ]
  },
  {
   "cell_type": "code",
   "execution_count": 2,
   "metadata": {},
   "outputs": [],
   "source": [
    "class Simplex():\n",
    "    def __init__(self, c, A, b, limit = 10):\n",
    "        self.c = np.array(c)\n",
    "        self.A = np.array(A)\n",
    "        self.b = b\n",
    "        self.n = len(c)\n",
    "        self.m = A.shape[0]\n",
    "        self.limit = limit\n",
    "            \n",
    "    def initialize(self, basis_idx, nonbasis_idx):\n",
    "        self.basis_idx = np.array(basis_idx)\n",
    "        self.nonbasis_idx = np.array(nonbasis_idx)\n",
    "        \n",
    "    def routines(self):\n",
    "        self.k = 0\n",
    "\n",
    "        while True and self.k < self.limit:\n",
    "            self.k += 1\n",
    "            A_b = np.array(self.A[:, self.basis_idx])\n",
    "            A_n = np.array(self.A[:, self.nonbasis_idx])\n",
    "            c_b = np.array(self.c[self.basis_idx])\n",
    "            c_n = np.array(self.c[self.nonbasis_idx])\n",
    "            x_n = np.zeros(3)\n",
    "            \n",
    "            self.t_b = c_b @ np.linalg.inv(A_b) @ A_n - c_n\n",
    "            idx = np.argmax(self.t_b)\n",
    "            if (self.t_b[idx] <= 0):\n",
    "                break\n",
    "\n",
    "            A_prime = np.linalg.inv(A_b) @ A_n\n",
    "            b_prime = np.linalg.inv(A_b) @ self.b\n",
    "            A_prime[:, idx] = np.where(A_prime[:, idx] < 0, 10**-3, A_prime[:, idx])\n",
    "            idx_change = np.argmin(b_prime / A_prime[:, idx])\n",
    "            self.basis_idx[idx_change], self.nonbasis_idx[idx] = self.nonbasis_idx[idx], self.basis_idx[idx_change]\n",
    "            \n",
    "        self.b_prime = np.linalg.inv(A_b) @ self.b\n",
    "        self.t_b = c_b @ np.linalg.inv(A_b) @ A_n - c_n\n",
    "    \n",
    "    def res(self):\n",
    "        x = np.zeros(self.n)\n",
    "        x[self.basis_idx] = self.b_prime\n",
    "        return x"
   ]
  },
  {
   "cell_type": "code",
   "execution_count": 4,
   "metadata": {},
   "outputs": [
    {
     "data": {
      "text/plain": [
       "array([0.        , 0.57142857, 1.71428571, 0.        , 0.        ])"
      ]
     },
     "execution_count": 4,
     "metadata": {},
     "output_type": "execute_result"
    }
   ],
   "source": [
    "c = np.array([2, 6, -7, 2, 4])\n",
    "A = np.array([[4, -3, 8, -1, 0], [0, -1, 12, -3, 4]])\n",
    "b = np.array([12, 20])\n",
    "\n",
    "basis_idx = np.array([0, 4])\n",
    "nonbasis_idx = np.array([1, 2, 3])\n",
    "\n",
    "simplex = Simplex(c, A, b, 5)\n",
    "simplex.initialize(basis_idx, nonbasis_idx)\n",
    "simplex.routines()\n",
    "x = simplex.res()\n",
    "\n",
    "x"
   ]
  },
  {
   "cell_type": "code",
   "execution_count": null,
   "metadata": {},
   "outputs": [],
   "source": []
  }
 ],
 "metadata": {
  "kernelspec": {
   "display_name": "Python 3.10.6 ('hiwi')",
   "language": "python",
   "name": "python3"
  },
  "language_info": {
   "codemirror_mode": {
    "name": "ipython",
    "version": 3
   },
   "file_extension": ".py",
   "mimetype": "text/x-python",
   "name": "python",
   "nbconvert_exporter": "python",
   "pygments_lexer": "ipython3",
   "version": "3.10.6"
  },
  "orig_nbformat": 4,
  "vscode": {
   "interpreter": {
    "hash": "26c33c3520bfcb400404c02905230d6d1cf07703d4fa97930f79a16e9d6b6b65"
   }
  }
 },
 "nbformat": 4,
 "nbformat_minor": 2
}
