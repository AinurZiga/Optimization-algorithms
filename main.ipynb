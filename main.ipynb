{
 "cells": [
  {
   "cell_type": "code",
   "execution_count": 1,
   "metadata": {},
   "outputs": [],
   "source": [
    "import numpy as np\n",
    "\n",
    "from non_linear.first_order.conjugate_gradient import ConjugateGradient\n",
    "from non_linear.first_order.gradient_descent import GradientDescent\n",
    "from non_linear.second_order.newton import Newton\n",
    "from non_linear.second_order.BFGS import BFGS\n",
    "from non_linear.first_order.accelerated_GD import AcceleratedGD\n",
    "from non_linear.first_order.steepest_descent import SteepestDescent\n",
    "\n",
    "from scipy.optimize import line_search, rosen, rosen_der, rosen_hess, minimize\n",
    "\n",
    "def obj_fun(x):\n",
    "    return np.array(rosen(x))\n",
    "\n",
    "def obj_grad(x):\n",
    "    return np.array(rosen_der(x))\n",
    "\n",
    "def obj_hess(x):\n",
    "    return np.array(rosen_hess(x))"
   ]
  },
  {
   "cell_type": "code",
   "execution_count": 11,
   "metadata": {},
   "outputs": [],
   "source": [
    "x0 = np.random.randn(10)*1 + 2\n",
    "eps0 = 10**-2\n",
    "eps = 10**-4\n",
    "eps2 = 10**-8\n",
    "k_lim = 3*10**4\n"
   ]
  },
  {
   "cell_type": "code",
   "execution_count": 35,
   "metadata": {},
   "outputs": [
    {
     "name": "stdout",
     "output_type": "stream",
     "text": [
      "k = 59999\n"
     ]
    },
    {
     "data": {
      "text/plain": [
       "array([1.00140553, 1.00281928, 1.00566216, 1.01138924, 1.02297458,\n",
       "       1.04660936, 1.09565225, 1.20095977, 1.443252  , 2.08464066])"
      ]
     },
     "execution_count": 35,
     "metadata": {},
     "output_type": "execute_result"
    }
   ],
   "source": [
    "x = GradientDescent.solve(obj_fun, obj_grad, x0, eps0, k_lim*2)\n",
    "x"
   ]
  },
  {
   "cell_type": "code",
   "execution_count": 36,
   "metadata": {},
   "outputs": [
    {
     "name": "stdout",
     "output_type": "stream",
     "text": [
      "k = 9999\n"
     ]
    },
    {
     "data": {
      "text/plain": [
       "array([1.00083272, 1.00166966, 1.00335091, 1.00673156, 1.0135459 ,\n",
       "       1.02735024, 1.05559731, 1.11457784, 1.24284528, 1.54569992])"
      ]
     },
     "execution_count": 36,
     "metadata": {},
     "output_type": "execute_result"
    }
   ],
   "source": [
    "x = AcceleratedGD.solve(obj_fun, obj_grad, x0, eps0, k_lim // 3)\n",
    "x"
   ]
  },
  {
   "cell_type": "code",
   "execution_count": 12,
   "metadata": {},
   "outputs": [
    {
     "name": "stdout",
     "output_type": "stream",
     "text": [
      "k = 15724\n"
     ]
    },
    {
     "data": {
      "text/plain": [
       "array([1.00000025, 1.00000049, 1.00000102, 1.000002  , 1.00000405,\n",
       "       1.00000807, 1.00001623, 1.00003249, 1.00006518, 1.00013067])"
      ]
     },
     "execution_count": 12,
     "metadata": {},
     "output_type": "execute_result"
    }
   ],
   "source": [
    "x = SteepestDescent.solve(obj_fun, obj_grad, x0, eps, k_lim)\n",
    "x"
   ]
  },
  {
   "cell_type": "code",
   "execution_count": 37,
   "metadata": {},
   "outputs": [
    {
     "name": "stdout",
     "output_type": "stream",
     "text": [
      "k = 12355\n"
     ]
    },
    {
     "data": {
      "text/plain": [
       "array([1.00000025, 1.00000052, 1.00000101, 1.00000207, 1.0000041 ,\n",
       "       1.00000827, 1.00001654, 1.0000332 , 1.00006654, 1.00013343])"
      ]
     },
     "execution_count": 37,
     "metadata": {},
     "output_type": "execute_result"
    }
   ],
   "source": [
    "x = ConjugateGradient.PolakRibier(obj_fun, obj_grad, x0, eps, k_lim)\n",
    "x"
   ]
  },
  {
   "cell_type": "code",
   "execution_count": 38,
   "metadata": {},
   "outputs": [
    {
     "name": "stdout",
     "output_type": "stream",
     "text": [
      "k = 1733\n"
     ]
    },
    {
     "data": {
      "text/plain": [
       "array([1.00000023, 1.00000035, 1.00000065, 1.00000134, 1.0000027 ,\n",
       "       1.00000548, 1.00001089, 1.00002176, 1.00004365, 1.00008755])"
      ]
     },
     "execution_count": 38,
     "metadata": {},
     "output_type": "execute_result"
    }
   ],
   "source": [
    "x = ConjugateGradient.FletcherReeves(obj_fun, obj_grad, x0, eps, k_lim)\n",
    "x"
   ]
  },
  {
   "cell_type": "code",
   "execution_count": 32,
   "metadata": {},
   "outputs": [
    {
     "name": "stdout",
     "output_type": "stream",
     "text": [
      "k = 70\n"
     ]
    },
    {
     "data": {
      "text/plain": [
       "array([1., 1., 1., 1., 1., 1., 1., 1., 1., 1.])"
      ]
     },
     "execution_count": 32,
     "metadata": {},
     "output_type": "execute_result"
    }
   ],
   "source": [
    "x = BFGS.solve(obj_fun, obj_grad, x0, eps2, k_lim//100)\n",
    "x"
   ]
  },
  {
   "cell_type": "code",
   "execution_count": 33,
   "metadata": {},
   "outputs": [
    {
     "name": "stdout",
     "output_type": "stream",
     "text": [
      "k = 14\n"
     ]
    },
    {
     "data": {
      "text/plain": [
       "array([1., 1., 1., 1., 1., 1., 1., 1., 1., 1.])"
      ]
     },
     "execution_count": 33,
     "metadata": {},
     "output_type": "execute_result"
    }
   ],
   "source": [
    "x = Newton.solve(obj_fun, obj_grad, obj_hess, x0, eps2, k_lim//200)\n",
    "x"
   ]
  },
  {
   "cell_type": "code",
   "execution_count": null,
   "metadata": {},
   "outputs": [],
   "source": []
  }
 ],
 "metadata": {
  "kernelspec": {
   "display_name": "Python 3.10.6 ('hiwi')",
   "language": "python",
   "name": "python3"
  },
  "language_info": {
   "codemirror_mode": {
    "name": "ipython",
    "version": 3
   },
   "file_extension": ".py",
   "mimetype": "text/x-python",
   "name": "python",
   "nbconvert_exporter": "python",
   "pygments_lexer": "ipython3",
   "version": "3.10.6"
  },
  "orig_nbformat": 4,
  "vscode": {
   "interpreter": {
    "hash": "26c33c3520bfcb400404c02905230d6d1cf07703d4fa97930f79a16e9d6b6b65"
   }
  }
 },
 "nbformat": 4,
 "nbformat_minor": 2
}
