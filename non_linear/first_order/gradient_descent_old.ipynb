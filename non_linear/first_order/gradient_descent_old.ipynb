{
 "cells": [
  {
   "cell_type": "code",
   "execution_count": 1,
   "metadata": {},
   "outputs": [],
   "source": [
    "import numpy as np"
   ]
  },
  {
   "cell_type": "code",
   "execution_count": 8,
   "metadata": {},
   "outputs": [],
   "source": [
    "def GD(obj_fun, obj_grad, x0, eps=10**-4, k_lim=10**4):\n",
    "    a = 0.1/2000  # TODO: change to vector\n",
    "    delta = 1\n",
    "    lamda = 1.0\n",
    "    x_k = x0.copy()\n",
    "    for k in range(k_lim):\n",
    "        if np.linalg.norm(obj_grad(x_k)) < eps:\n",
    "            print(\"Solution found for\", k, \"steps\")\n",
    "            break\n",
    "        x = x_k - a * obj_grad(x_k)\n",
    "        if obj_fun(x) - obj_fun(x_k) > -a*delta*np.linalg.norm(obj_grad(x_k))**2:\n",
    "            a *= lamda\n",
    "        x_new = x_k - a * obj_grad(x_k)\n",
    "        x_k = x_new.copy()\n",
    "\n",
    "    if k == k_lim - 1:\n",
    "        print(\"Limit exceeded\")\n",
    "\n",
    "    return x_k"
   ]
  },
  {
   "cell_type": "code",
   "execution_count": 4,
   "metadata": {},
   "outputs": [],
   "source": [
    "from scipy.optimize import line_search, rosen, rosen_der, rosen_hess, minimize\n",
    "\n",
    "def obj_fun(x):\n",
    "    return np.array(rosen(x))\n",
    "\n",
    "def obj_grad(x):\n",
    "    return np.array(rosen_der(x))\n",
    "\n",
    "def obj_hess(x):\n",
    "    return np.array(rosen_hess(x))"
   ]
  },
  {
   "cell_type": "code",
   "execution_count": 10,
   "metadata": {},
   "outputs": [
    {
     "name": "stdout",
     "output_type": "stream",
     "text": [
      "Limit exceeded\n",
      "CPU times: user 1.45 s, sys: 0 ns, total: 1.45 s\n",
      "Wall time: 1.46 s\n"
     ]
    },
    {
     "data": {
      "text/plain": [
       "array([1.14908966, 1.32096658, 1.74620079])"
      ]
     },
     "execution_count": 10,
     "metadata": {},
     "output_type": "execute_result"
    }
   ],
   "source": [
    "%%time\n",
    "x0 = np.random.randn(3)*1 + 2\n",
    "ans = GD(obj_fun, obj_grad, x0)\n",
    "ans"
   ]
  },
  {
   "cell_type": "code",
   "execution_count": null,
   "metadata": {},
   "outputs": [],
   "source": []
  },
  {
   "cell_type": "code",
   "execution_count": null,
   "metadata": {},
   "outputs": [],
   "source": []
  }
 ],
 "metadata": {
  "kernelspec": {
   "display_name": "Python 3.10.6 ('hiwi')",
   "language": "python",
   "name": "python3"
  },
  "language_info": {
   "codemirror_mode": {
    "name": "ipython",
    "version": 3
   },
   "file_extension": ".py",
   "mimetype": "text/x-python",
   "name": "python",
   "nbconvert_exporter": "python",
   "pygments_lexer": "ipython3",
   "version": "3.10.6"
  },
  "orig_nbformat": 4,
  "vscode": {
   "interpreter": {
    "hash": "26c33c3520bfcb400404c02905230d6d1cf07703d4fa97930f79a16e9d6b6b65"
   }
  }
 },
 "nbformat": 4,
 "nbformat_minor": 2
}
